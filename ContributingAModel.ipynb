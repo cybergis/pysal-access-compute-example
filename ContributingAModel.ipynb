{
 "cells": [
  {
   "cell_type": "markdown",
   "id": "4bddef1c-5b3f-4c83-9274-228c9a056fa0",
   "metadata": {},
   "source": [
    "## Contributing Your Model\n",
    "\n",
    "**Authors:** Alexander Michels, Taylor Ziegler, Zimo Xiao, Mit Kotak, Anand Padmanabhan, Zhiyu Li, and Shaowen Wang\n",
    "\n",
    "Now that we have examined a job with CyberGIS-Compute, let's talk about how you can create your own models for CyberGIS-Compute! We will examine how this job was contributed to CyberGIS-Compute and how you might do it yourself."
   ]
  },
  {
   "cell_type": "code",
   "execution_count": 1,
   "id": "82dd7f8e-0696-4db0-9ae8-6df8e8d27993",
   "metadata": {},
   "outputs": [],
   "source": [
    "from cybergis_compute_client import CyberGISCompute"
   ]
  },
  {
   "cell_type": "markdown",
   "id": "77001ea5-968a-4da4-af4f-8afebd18b5d6",
   "metadata": {
    "jp-MarkdownHeadingCollapsed": true,
    "tags": []
   },
   "source": [
    "<hr />\n",
    "\n",
    "## Step 1: What are the stages of your model?\n",
    "\n",
    "First, ask yourself, what are the different steps/stages of my model? CyberGIS-Compute offers flexibility by providing a pre processing stage, execution stage, and post-processing stage. Some examples of how you can use those stages are:\n",
    "\n",
    "* [Pre] Install packages with Pip --> [Main] Run a model in Python (this model!)\n",
    "* [Pre] Compile code --> [Main] Run the model --> [Post] Manage/analyze the model outputs\n",
    "* [Pre] Download data --> [Main] Analyze the data\n",
    "\n",
    "This model's code is Python, but CyberGIS-Compute can support arbitrary languages/frameworks so long as we have a container that is able to run the model.\n",
    "\n",
    "For this model, we had a notebook which could perform the analysis [ChicagoAccess.ipynb](ChicagoAccess.ipynb) and simply converted that to a script using nbconvert. The syntax for that looks like:\n",
    "\n",
    "```\n",
    "jupyter nbconvert --to script ChicagoAccess.ipynb\n",
    "```\n",
    "\n",
    "Some small modifications may need to be made to the code to make it compatible with CyberGIS-Compute. The most common example is that anything you'd like the user to be able to download must be in the results folder. The results folder is specified as an environment variable named `result_folder`. You can access the environmental variable in Python with:\n",
    "\n",
    "```\n",
    "RESULTS_FOLDER = os.getenv('result_folder')\n",
    "```"
   ]
  },
  {
   "cell_type": "markdown",
   "id": "d3ce6ab3-3cc3-4726-a54a-8b0effc4bed5",
   "metadata": {},
   "source": [
    "<hr />\n",
    "\n",
    "## Step 2: Create a Manifest\n",
    "\n",
    "Now, we need to create a manifest so that Compute knows how to use our model. We will use our own manifest as an example:"
   ]
  },
  {
   "cell_type": "code",
   "execution_count": 2,
   "id": "7c70ee79-fbf1-4266-a609-d0c34cd7b79d",
   "metadata": {},
   "outputs": [
    {
     "name": "stdout",
     "output_type": "stream",
     "text": [
      "{\n",
      "    \"name\": \"Pysal Access Example\",\n",
      "    \"description\": \"Calculates spatial accessibility using a variety of metrics using the Pysal access package: https://github.com/pysal/access\",\n",
      "    \"estimated_runtime\": \"3-6 minutes\",\n",
      "    \"container\": \"cybergisx-0.4\",\n",
      "    \"pre_processing_stage\": \"bash install_access.sh\",\n",
      "    \"execution_stage\": \"python ChicagoAccess.py\",\n",
      "    \"post_processing_stage\": \"ls\",\n",
      "    \"slurm_input_rules\": {\n",
      "           \"time\": {\n",
      "                \"max\": 30,\n",
      "                \"min\": 15,\n",
      "                \"default_value\": 20,\n",
      "                \"step\": 1,\n",
      "                \"unit\": \"Minutes\"   \n",
      "            },\n",
      "            \"memory\": {\n",
      "                \"max\": 4,\n",
      "                \"min\": 2,\n",
      "                \"default_value\": 4,\n",
      "                \"step\": 1,\n",
      "                \"unit\": \"GB\"\n",
      "            }\n",
      "    },\n",
      "    \"require_upload_data\": false\n",
      "}\n"
     ]
    }
   ],
   "source": [
    "!cat manifest.json"
   ]
  },
  {
   "cell_type": "markdown",
   "id": "2e32d5d5-5143-4360-bbb4-c7135bc98957",
   "metadata": {},
   "source": [
    "We will break these up into chunks:\n",
    "\n",
    "**Metadata:** These describe the model and provide metadata to the user. Examples are:\n",
    "\n",
    "* **name:** the name of the model.\n",
    "* **description:** a short textual description of the model.\n",
    "* **estimated_runtime:** a short estimate of the runtime of your model.\n",
    "\n",
    "**How to Run the Model:** These describe how Compute will run the model. Examples are:\n",
    "\n",
    "* **container:** The Singularity container in which your job will run.\n",
    "* **pre_processing_stage:** The first stage of your model.\n",
    "* **execution_stage:** The second and main stage of your model.\n",
    "* **post_processing_stage:** The third and final stage of your model.\n",
    "* **slurm_input_rules:** The inputs passed to the SLURM job scheduler when running your job. Most common are time and memory, but we support more complex tasks (i.e. MPI, GPU). For more information, see [\"Crash Course in SLURM Parameters\" in our Model Contribution guide](https://cybergis.github.io/cybergis-compute-python-sdk/model_contribution/develop_model.html#crash-course-in-slurm-parameters).\n",
    "* **supported_hpc/default_hpc:** CyberGIS-Compute supports a variety of High Performance Computing (HPC) resources and gives users/model contributors the ability to specify which resources their model runs on. For more information, see [\"Supported HPC\" in our Model Contribution guide](https://cybergis.github.io/cybergis-compute-python-sdk/model_contribution/develop_model.html#supported-hpc).\n",
    "\n",
    "**How the User Interacts with Your Model:** CyberGIS-Compute provides the flexibility for users to customize jobs by specifying parameters, tweaking SLURM inputs, and uploading data.\n",
    "\n",
    "* **param_rules:** This is a section that allows you to define widgets which users will use to pass parameters into the model. For more information, see [\"Advanced Topic: Passing Parameters\" in our Model Contribution guide](https://cybergis.github.io/cybergis-compute-python-sdk/model_contribution/develop_model.html#advanced-topic-passing-parameters)\n",
    "* **slurm_input_rules:** This information populates widgets allowing users to specify their SLURM settings. For more information, see [\"Crash Course in SLURM Parameters\" in our Model Contribution guide](https://cybergis.github.io/cybergis-compute-python-sdk/model_contribution/develop_model.html#crash-course-in-slurm-parameters).\n",
    "* **require_upload_data:** This allows you to ask users for input data which can be used in your analysis. For more information, see [\"Providing Input Data\" in our Model Contribution guide](https://cybergis.github.io/cybergis-compute-python-sdk/model_contribution/develop_model.html#providing-input-data).\n",
    "\n",
    "To briefly show off some of the topics discussed above, let's run the \"Hello World\" job:\n",
    "\n",
    "1. Run the cell below to bring up the cybergis UI.\n",
    "2. If it is not already selected, select \"Hello World\" in the \"Job Templates\" dropdown.\n",
    "3. Open the \"Computing Resource\" section and see what resources are supported.\n",
    "4. Open the \"Slurm Computing Configurations\" and see what options you can customize.\n",
    "5. Open \"Input Parameters\" to see what parameters and options you have. \n",
    "\n",
    "You can view the \"Hello World\" manifest here: https://github.com/cybergis/cybergis-compute-hello-world/blob/main/manifest.json"
   ]
  },
  {
   "cell_type": "code",
   "execution_count": 3,
   "id": "cd238222-c096-472f-9ba6-5af8c90cc122",
   "metadata": {},
   "outputs": [],
   "source": [
    "cybergis = CyberGISCompute(url=\"cgjobsup.cigi.illinois.edu\", isJupyter=True, protocol=\"HTTPS\", port=443, suffix=\"v2\")"
   ]
  },
  {
   "cell_type": "code",
   "execution_count": 4,
   "id": "363cc731-9685-4b9a-abda-85da5f7d64b5",
   "metadata": {},
   "outputs": [
    {
     "data": {
      "application/vnd.jupyter.widget-view+json": {
       "model_id": "d9e8b4dbacf0454c960c3f62341940f3",
       "version_major": 2,
       "version_minor": 0
      },
      "text/plain": [
       "Tab(children=(Output(), Output(), Output(), Output()), _titles={'0': 'Job Configuration', '1': 'Your Job Statu…"
      ]
     },
     "metadata": {},
     "output_type": "display_data"
    }
   ],
   "source": [
    "cybergis.show_ui()"
   ]
  },
  {
   "cell_type": "markdown",
   "id": "fdd36257-4da3-4b20-a344-21d99a032890",
   "metadata": {
    "tags": []
   },
   "source": [
    "<hr />\n",
    "\n",
    "## Step 3: Contribute Your Model!\n",
    "\n",
    "Once you have a model put together and tested, reach out to us at the CyberGIS-Compute team! We will be happy to setup the model on our development server for testing/debugging. Once the model is fully functioning, we would love to add your model to our [Model Gallery](https://cybergis.github.io/cybergis-compute-python-sdk/models.html) and add a notebook showing off your model to [CyberGISX Hub](https://cybergisxhub.cigi.illinois.edu/)."
   ]
  },
  {
   "cell_type": "markdown",
   "id": "b678f025-68ce-4ae6-b4eb-fd8e3913f1f9",
   "metadata": {},
   "source": [
    "<hr id=\"learn-more\" />\n",
    "\n",
    "## Learn More about CyberGIS-Compute\n",
    "\n",
    "You can learn a lot about the CyberGIS-Compute project on the [CyberGIS-Compute Python SDK page](https://cybergis.github.io/cybergis-compute-python-sdk/index.html), especially on the [About page](https://cybergis.github.io/cybergis-compute-python-sdk/about.html) which has YouTube presentations and papers for you to view!\n",
    "\n",
    "* For a step-by-step guide on using CyberGIS-Compute, we have a [\"Using CyberGIS-Compute\" guide](https://cybergis.github.io/cybergis-compute-python-sdk/usage.html) which walks you through running our \"Hello World\" CyberGIS-Compute job.\n",
    "* Check out our [Model Gallery](https://cybergis.github.io/cybergis-compute-python-sdk/models.html) to see the models which are currently being used on CyberGIS-Compute.\n",
    "* Those hoping to contribute models to CyberGIS-Compute should check out our [\"Contributing Models\" guide](https://cybergis.github.io/cybergis-compute-python-sdk/model_contribution/index.html)."
   ]
  },
  {
   "cell_type": "code",
   "execution_count": null,
   "id": "116ee655-7681-4117-b200-83c4a0e5b4cf",
   "metadata": {},
   "outputs": [],
   "source": []
  }
 ],
 "metadata": {
  "kernelspec": {
   "display_name": "Python 3",
   "language": "python",
   "name": "python3"
  },
  "language_info": {
   "codemirror_mode": {
    "name": "ipython",
    "version": 3
   },
   "file_extension": ".py",
   "mimetype": "text/x-python",
   "name": "python",
   "nbconvert_exporter": "python",
   "pygments_lexer": "ipython3",
   "version": "3.8.12"
  },
  "widgets": {
   "application/vnd.jupyter.widget-state+json": {
    "state": {
     "00b6517d03764306be35930c979bb803": {
      "model_module": "@jupyter-widgets/output",
      "model_module_version": "1.0.0",
      "model_name": "OutputModel",
      "state": {
       "layout": "IPY_MODEL_051b4d3ac6cb46b8b343478365b659eb",
       "outputs": [
        {
         "data": {
          "text/markdown": "# ✌️ Your Job is Here!",
          "text/plain": "<IPython.core.display.Markdown object>"
         },
         "metadata": {},
         "output_type": "display_data"
        },
        {
         "data": {
          "text/html": "<table>\n<thead>\n<tr><th style=\"text-align:left\">id             </th><th style=\"text-align:left\">slurmId  </th><th style=\"text-align:left\">hpc              </th><th style=\"text-align:left\">executableFolder  </th><th style=\"text-align:left\">dataFolder  </th></tr>\n</thead>\n<tbody>\n<tr><td style=\"text-align:left\">1658253944JRlK8</td><td style=\"text-align:left\">         </td><td style=\"text-align:left\">keeling_community</td><td style=\"text-align:left\">git://hello_world </td><td style=\"text-align:left\">            </td></tr>\n</tbody>\n</table>",
          "text/plain": "<IPython.core.display.HTML object>"
         },
         "metadata": {},
         "output_type": "display_data"
        },
        {
         "data": {
          "text/html": "<table>\n<thead>\n<tr><th style=\"text-align:left\">param                            </th><th style=\"text-align:left\">slurm                                                 </th><th style=\"text-align:left\">userId                                      </th></tr>\n</thead>\n<tbody>\n<tr><td style=\"text-align:left\">{&quot;input_a&quot;: 50, &quot;input_b&quot;: &quot;foo&quot;}</td><td style=\"text-align:left\">{&quot;time&quot;: &quot;20:00&quot;, &quot;num_of_task&quot;: 4, &quot;cpu_per_task&quot;: 1}</td><td style=\"text-align:left\">alexandermichels@cybergisx.cigi.illinois.edu</td></tr>\n</tbody>\n</table>",
          "text/plain": "<IPython.core.display.HTML object>"
         },
         "metadata": {},
         "output_type": "display_data"
        }
       ]
      }
     },
     "0168236ced5e439e9b04c81ab950da3d": {
      "model_module": "@jupyter-widgets/output",
      "model_module_version": "1.0.0",
      "model_name": "OutputModel",
      "state": {
       "layout": "IPY_MODEL_95dbd698ab3b4d08a441f33f7674ad94"
      }
     },
     "018d6a6526764143b9fdcef27af0c8dd": {
      "model_module": "@jupyter-widgets/controls",
      "model_module_version": "1.5.0",
      "model_name": "DescriptionStyleModel",
      "state": {
       "description_width": "auto"
      }
     },
     "034a7d789b404537a16cbd5ae156cbd4": {
      "model_module": "@jupyter-widgets/controls",
      "model_module_version": "1.5.0",
      "model_name": "DescriptionStyleModel",
      "state": {
       "description_width": ""
      }
     },
     "051b4d3ac6cb46b8b343478365b659eb": {
      "model_module": "@jupyter-widgets/base",
      "model_module_version": "1.2.0",
      "model_name": "LayoutModel",
      "state": {}
     },
     "05d006c387b6435aa29fbcc596240ca7": {
      "model_module": "@jupyter-widgets/controls",
      "model_module_version": "1.5.0",
      "model_name": "ButtonStyleModel",
      "state": {}
     },
     "0842979847df48f98a968269a3fc0f62": {
      "model_module": "@jupyter-widgets/base",
      "model_module_version": "1.2.0",
      "model_name": "LayoutModel",
      "state": {}
     },
     "0f38432c82584392a904c98408e7264f": {
      "model_module": "@jupyter-widgets/controls",
      "model_module_version": "1.5.0",
      "model_name": "ButtonStyleModel",
      "state": {}
     },
     "12d2b78b7d1c4c458e071ca12795c73f": {
      "model_module": "@jupyter-widgets/base",
      "model_module_version": "1.2.0",
      "model_name": "LayoutModel",
      "state": {}
     },
     "13642c5f40f546ad83a40f0289785861": {
      "model_module": "@jupyter-widgets/base",
      "model_module_version": "1.2.0",
      "model_name": "LayoutModel",
      "state": {}
     },
     "19f35ef4cd474d878ba51c4466b16ea8": {
      "model_module": "@jupyter-widgets/base",
      "model_module_version": "1.2.0",
      "model_name": "LayoutModel",
      "state": {}
     },
     "1a1f5320575744d59277c2cc83b09bed": {
      "model_module": "@jupyter-widgets/base",
      "model_module_version": "1.2.0",
      "model_name": "LayoutModel",
      "state": {}
     },
     "1c04142d04644caaa16b5b415fa83134": {
      "model_module": "@jupyter-widgets/controls",
      "model_module_version": "1.5.0",
      "model_name": "ButtonModel",
      "state": {
       "description": "Job Submitted ✅",
       "disabled": true,
       "layout": "IPY_MODEL_1f1d6dd750da4f35ae007ce01b089fa0",
       "style": "IPY_MODEL_a6fb5ee2ed4c4e038c35e8fb4bb08e41"
      }
     },
     "1e34470da453481785658d8a283c1542": {
      "model_module": "@jupyter-widgets/controls",
      "model_module_version": "1.5.0",
      "model_name": "DropdownModel",
      "state": {
       "_options_labels": [
        "wrfhydro-5.x",
        "summa3",
        "pysal-access",
        "hello_world",
        "data_fusion",
        "covid-access"
       ],
       "description": "📦 Job Templates:",
       "index": 3,
       "layout": "IPY_MODEL_715a41d0e9c4452fbc083274edb5aa44",
       "style": "IPY_MODEL_378efca20c264ea5b7eeb7c870dacf4c"
      }
     },
     "1f1d6dd750da4f35ae007ce01b089fa0": {
      "model_module": "@jupyter-widgets/base",
      "model_module_version": "1.2.0",
      "model_name": "LayoutModel",
      "state": {}
     },
     "20dd72b2b34d48918478ce7d4fff1e17": {
      "model_module": "@jupyter-widgets/controls",
      "model_module_version": "1.5.0",
      "model_name": "ButtonStyleModel",
      "state": {}
     },
     "218e1416767e441b8c1cef14660c378f": {
      "model_module": "@jupyter-widgets/controls",
      "model_module_version": "1.5.0",
      "model_name": "TextModel",
      "state": {
       "layout": "IPY_MODEL_4d6c0131503e4ad283a5703a8af0fedd",
       "style": "IPY_MODEL_018d6a6526764143b9fdcef27af0c8dd",
       "value": "example@illinois.edu"
      }
     },
     "24f931705bef451abaee3647bb4c97aa": {
      "model_module": "@jupyter-widgets/base",
      "model_module_version": "1.2.0",
      "model_name": "LayoutModel",
      "state": {}
     },
     "28b14c2472bd4f2bb227217695eaf42d": {
      "model_module": "@jupyter-widgets/controls",
      "model_module_version": "1.5.0",
      "model_name": "VBoxModel",
      "state": {
       "children": [
        "IPY_MODEL_9fd5e52f87084dd8a64ddeefe0a8f9a3",
        "IPY_MODEL_dfb33d8683f54525bdf2ee5c03339fc9"
       ],
       "layout": "IPY_MODEL_e68eb6e85df04b14ab0eb8eb80d1a1e3"
      }
     },
     "2f3c2e7073f549afbeb22c45f22ddd89": {
      "model_module": "@jupyter-widgets/controls",
      "model_module_version": "1.5.0",
      "model_name": "ButtonModel",
      "state": {
       "description": "Restore",
       "layout": "IPY_MODEL_55ba30a6775347bcbf0dfa4204c7a6a6",
       "style": "IPY_MODEL_e4994b0e8dae40509e85c5e8474e6268"
      }
     },
     "2fec773f091b4df6b187f571d4efa544": {
      "model_module": "@jupyter-widgets/controls",
      "model_module_version": "1.5.0",
      "model_name": "ButtonModel",
      "state": {
       "description": "Submit Job",
       "layout": "IPY_MODEL_4dabab805e17489b929af7a99acd27b5",
       "style": "IPY_MODEL_8160eced0d6d4068bccb820cb365493a"
      }
     },
     "302b9ba3c22f445490d38189cc1795e1": {
      "model_module": "@jupyter-widgets/controls",
      "model_module_version": "1.5.0",
      "model_name": "VBoxModel",
      "state": {
       "children": [
        "IPY_MODEL_9618285c5d4741b49e2ec779a9122fb2",
        "IPY_MODEL_cb25402ad48f42d38c0ca2b4de67608f"
       ],
       "layout": "IPY_MODEL_1a1f5320575744d59277c2cc83b09bed"
      }
     },
     "3578213ca026484e870b205e4770e624": {
      "model_module": "@jupyter-widgets/controls",
      "model_module_version": "1.5.0",
      "model_name": "ButtonModel",
      "state": {
       "description": "Restore",
       "layout": "IPY_MODEL_7d607eebf06c42d8a473b80bb15cbb84",
       "style": "IPY_MODEL_ada28e57ed9545d9b445a0ecb5829506"
      }
     },
     "364ad87fd1584970b20d0b65a6a77304": {
      "model_module": "@jupyter-widgets/base",
      "model_module_version": "1.2.0",
      "model_name": "LayoutModel",
      "state": {}
     },
     "378efca20c264ea5b7eeb7c870dacf4c": {
      "model_module": "@jupyter-widgets/controls",
      "model_module_version": "1.5.0",
      "model_name": "DescriptionStyleModel",
      "state": {
       "description_width": "auto"
      }
     },
     "3c3b11d50be841ef83492484652ad916": {
      "model_module": "@jupyter-widgets/controls",
      "model_module_version": "1.5.0",
      "model_name": "SliderStyleModel",
      "state": {
       "description_width": "auto"
      }
     },
     "3d4487e0cb99486aa2ff97174e014654": {
      "model_module": "@jupyter-widgets/output",
      "model_module_version": "1.0.0",
      "model_name": "OutputModel",
      "state": {
       "layout": "IPY_MODEL_434b78bbd5c94d10aa1cf9dda8187c3c",
       "outputs": [
        {
         "data": {
          "application/vnd.jupyter.widget-view+json": {
           "model_id": "00b6517d03764306be35930c979bb803",
           "version_major": 2,
           "version_minor": 0
          },
          "text/plain": "Output()"
         },
         "metadata": {},
         "output_type": "display_data"
        },
        {
         "data": {
          "text/markdown": "***",
          "text/plain": "<IPython.core.display.Markdown object>"
         },
         "metadata": {},
         "output_type": "display_data"
        },
        {
         "data": {
          "text/markdown": "## 📋 job events (live refresh)",
          "text/plain": "<IPython.core.display.Markdown object>"
         },
         "metadata": {},
         "output_type": "display_data"
        },
        {
         "data": {
          "application/vnd.jupyter.widget-view+json": {
           "model_id": "701de59c1cb542429ccafd11a06322a6",
           "version_major": 2,
           "version_minor": 0
          },
          "text/plain": "Output()"
         },
         "metadata": {},
         "output_type": "display_data"
        },
        {
         "data": {
          "text/markdown": "***",
          "text/plain": "<IPython.core.display.Markdown object>"
         },
         "metadata": {},
         "output_type": "display_data"
        },
        {
         "data": {
          "text/markdown": "## 📋 job logs",
          "text/plain": "<IPython.core.display.Markdown object>"
         },
         "metadata": {},
         "output_type": "display_data"
        },
        {
         "data": {
          "application/vnd.jupyter.widget-view+json": {
           "model_id": "ed6a86c1701a41d582cd0f3ec6cc173f",
           "version_major": 2,
           "version_minor": 0
          },
          "text/plain": "Output()"
         },
         "metadata": {},
         "output_type": "display_data"
        }
       ]
      }
     },
     "40bb6e25504e40c78afe298d8edc812f": {
      "model_module": "@jupyter-widgets/base",
      "model_module_version": "1.2.0",
      "model_name": "LayoutModel",
      "state": {}
     },
     "40c52cb646d042a4b277e626af3babd2": {
      "model_module": "@jupyter-widgets/controls",
      "model_module_version": "1.5.0",
      "model_name": "DropdownModel",
      "state": {
       "_options_labels": [
        "keeling_community"
       ],
       "description": "🖥 Computing Resource:",
       "index": 0,
       "layout": "IPY_MODEL_715a41d0e9c4452fbc083274edb5aa44",
       "style": "IPY_MODEL_4618269744f940ba963a4303fa86978a"
      }
     },
     "40f873afb56d49ab8c307608a4990a26": {
      "model_module": "@jupyter-widgets/controls",
      "model_module_version": "1.5.0",
      "model_name": "ButtonModel",
      "state": {
       "description": "Restore",
       "layout": "IPY_MODEL_24f931705bef451abaee3647bb4c97aa",
       "style": "IPY_MODEL_20dd72b2b34d48918478ce7d4fff1e17"
      }
     },
     "416a47542f1643f7acc8e440aefa0234": {
      "model_module": "@jupyter-widgets/controls",
      "model_module_version": "1.5.0",
      "model_name": "HBoxModel",
      "state": {
       "children": [
        "IPY_MODEL_7813f2069eaa44598f5826dfae1c507f",
        "IPY_MODEL_218e1416767e441b8c1cef14660c378f"
       ],
       "layout": "IPY_MODEL_13642c5f40f546ad83a40f0289785861"
      }
     },
     "434b78bbd5c94d10aa1cf9dda8187c3c": {
      "model_module": "@jupyter-widgets/base",
      "model_module_version": "1.2.0",
      "model_name": "LayoutModel",
      "state": {}
     },
     "4420137f13234519b2dfc8e93c1a2171": {
      "model_module": "@jupyter-widgets/output",
      "model_module_version": "1.0.0",
      "model_name": "OutputModel",
      "state": {
       "layout": "IPY_MODEL_f5517453856948afb1d1e78537dac556",
       "outputs": [
        {
         "data": {
          "text/markdown": "# Welcome to CyberGIS-Compute",
          "text/plain": "<IPython.core.display.Markdown object>"
         },
         "metadata": {},
         "output_type": "display_data"
        },
        {
         "data": {
          "text/markdown": "A scalable middleware framework for enabling high-performance and data-intensive geospatial research and education on CyberGIS-Jupyter",
          "text/plain": "<IPython.core.display.Markdown object>"
         },
         "metadata": {},
         "output_type": "display_data"
        },
        {
         "data": {
          "text/markdown": "***",
          "text/plain": "<IPython.core.display.Markdown object>"
         },
         "metadata": {},
         "output_type": "display_data"
        },
        {
         "data": {
          "application/vnd.jupyter.widget-view+json": {
           "model_id": "b9811b8c3c454c4ab5870fe8fb017f55",
           "version_major": 2,
           "version_minor": 0
          },
          "text/plain": "Output()"
         },
         "metadata": {},
         "output_type": "display_data"
        },
        {
         "data": {
          "application/vnd.jupyter.widget-view+json": {
           "model_id": "6082943c164644c6919d6c9f32644d7a",
           "version_major": 2,
           "version_minor": 0
          },
          "text/plain": "Output()"
         },
         "metadata": {},
         "output_type": "display_data"
        },
        {
         "data": {
          "application/vnd.jupyter.widget-view+json": {
           "model_id": "92f4f494d59a468bae2b3fef3dfa2b78",
           "version_major": 2,
           "version_minor": 0
          },
          "text/plain": "Output()"
         },
         "metadata": {},
         "output_type": "display_data"
        },
        {
         "data": {
          "application/vnd.jupyter.widget-view+json": {
           "model_id": "bd2fb52620a843b98813ac6e231fa93b",
           "version_major": 2,
           "version_minor": 0
          },
          "text/plain": "Output()"
         },
         "metadata": {},
         "output_type": "display_data"
        },
        {
         "data": {
          "application/vnd.jupyter.widget-view+json": {
           "model_id": "64474eafe69f4b7cb7a5a121a2283cbc",
           "version_major": 2,
           "version_minor": 0
          },
          "text/plain": "Output()"
         },
         "metadata": {},
         "output_type": "display_data"
        },
        {
         "data": {
          "application/vnd.jupyter.widget-view+json": {
           "model_id": "b00ce105c1014a8bb287509c1d2e4fc3",
           "version_major": 2,
           "version_minor": 0
          },
          "text/plain": "Output()"
         },
         "metadata": {},
         "output_type": "display_data"
        },
        {
         "data": {
          "application/vnd.jupyter.widget-view+json": {
           "model_id": "f1dde3ecd3674c1c98c5439561a9cc21",
           "version_major": 2,
           "version_minor": 0
          },
          "text/plain": "Output()"
         },
         "metadata": {},
         "output_type": "display_data"
        },
        {
         "data": {
          "application/vnd.jupyter.widget-view+json": {
           "model_id": "e0e95e3ac3974c4086d54a8f1e019d80",
           "version_major": 2,
           "version_minor": 0
          },
          "text/plain": "Output()"
         },
         "metadata": {},
         "output_type": "display_data"
        },
        {
         "data": {
          "application/vnd.jupyter.widget-view+json": {
           "model_id": "d1fe442fd82247f5b56fe7e84ad0e3d9",
           "version_major": 2,
           "version_minor": 0
          },
          "text/plain": "Output()"
         },
         "metadata": {},
         "output_type": "display_data"
        }
       ]
      }
     },
     "44bb6a750adc42c18bfb3eface70318c": {
      "model_module": "@jupyter-widgets/controls",
      "model_module_version": "1.5.0",
      "model_name": "DescriptionStyleModel",
      "state": {
       "description_width": "auto"
      }
     },
     "4618269744f940ba963a4303fa86978a": {
      "model_module": "@jupyter-widgets/controls",
      "model_module_version": "1.5.0",
      "model_name": "DescriptionStyleModel",
      "state": {
       "description_width": "auto"
      }
     },
     "4654c36a6238424dbe5db1c7b419fae2": {
      "model_module": "@jupyter-widgets/base",
      "model_module_version": "1.2.0",
      "model_name": "LayoutModel",
      "state": {}
     },
     "46d632188a4a4ddead112a60eda2dddb": {
      "model_module": "@jupyter-widgets/controls",
      "model_module_version": "1.5.0",
      "model_name": "ButtonModel",
      "state": {
       "description": "Load More",
       "layout": "IPY_MODEL_51eac4452dd34984899fe6a978da1462",
       "style": "IPY_MODEL_4716dbe2bcdc4be192b10f662842c8e4"
      }
     },
     "4716dbe2bcdc4be192b10f662842c8e4": {
      "model_module": "@jupyter-widgets/controls",
      "model_module_version": "1.5.0",
      "model_name": "ButtonStyleModel",
      "state": {}
     },
     "4733b2aff98041b99319fbdad9d3c052": {
      "model_module": "@jupyter-widgets/output",
      "model_module_version": "1.0.0",
      "model_name": "OutputModel",
      "state": {
       "layout": "IPY_MODEL_4cec8d456f424041bd48efdf3839edd5",
       "outputs": [
        {
         "data": {
          "text/markdown": "**Recently Submitted Jobs for alexandermichels**",
          "text/plain": "<IPython.core.display.Markdown object>"
         },
         "metadata": {},
         "output_type": "display_data"
        },
        {
         "data": {
          "text/html": "<table>\n<thead>\n<tr><th style=\"text-align:left\">id             </th><th style=\"text-align:left\">slurmId  </th><th style=\"text-align:left\">hpc              </th><th style=\"text-align:left\">executableFolder  </th><th style=\"text-align:left\">dataFolder  </th></tr>\n</thead>\n<tbody>\n<tr><td style=\"text-align:left\">1658253944JRlK8</td><td style=\"text-align:left\">861611   </td><td style=\"text-align:left\">keeling_community</td><td style=\"text-align:left\">git://hello_world </td><td style=\"text-align:left\">            </td></tr>\n</tbody>\n</table>",
          "text/plain": "<IPython.core.display.HTML object>"
         },
         "metadata": {},
         "output_type": "display_data"
        },
        {
         "data": {
          "text/html": "<table>\n<thead>\n<tr><th style=\"text-align:left\">param                            </th><th style=\"text-align:left\">slurm                                                 </th><th style=\"text-align:left\">userId                                      </th></tr>\n</thead>\n<tbody>\n<tr><td style=\"text-align:left\">{&quot;input_a&quot;: 50, &quot;input_b&quot;: &quot;foo&quot;}</td><td style=\"text-align:left\">{&quot;time&quot;: &quot;20:00&quot;, &quot;num_of_task&quot;: 4, &quot;cpu_per_task&quot;: 1}</td><td style=\"text-align:left\">alexandermichels@cybergisx.cigi.illinois.edu</td></tr>\n</tbody>\n</table>",
          "text/plain": "<IPython.core.display.HTML object>"
         },
         "metadata": {},
         "output_type": "display_data"
        },
        {
         "data": {
          "application/vnd.jupyter.widget-view+json": {
           "model_id": "95304aa8e5184b38b4e29f75ff5595bb",
           "version_major": 2,
           "version_minor": 0
          },
          "text/plain": "Button(description='Restore', style=ButtonStyle())"
         },
         "metadata": {},
         "output_type": "display_data"
        },
        {
         "data": {
          "text/html": "<table>\n<thead>\n<tr><th style=\"text-align:left\">id             </th><th style=\"text-align:left\">slurmId  </th><th style=\"text-align:left\">hpc              </th><th style=\"text-align:left\">executableFolder  </th><th style=\"text-align:left\">dataFolder  </th></tr>\n</thead>\n<tbody>\n<tr><td style=\"text-align:left\">1658246985T6nKU</td><td style=\"text-align:left\">860836   </td><td style=\"text-align:left\">keeling_community</td><td style=\"text-align:left\">git://covid-access</td><td style=\"text-align:left\">            </td></tr>\n</tbody>\n</table>",
          "text/plain": "<IPython.core.display.HTML object>"
         },
         "metadata": {},
         "output_type": "display_data"
        },
        {
         "data": {
          "text/html": "<table>\n<thead>\n<tr><th style=\"text-align:left\">param  </th><th style=\"text-align:left\">slurm                                                                              </th><th style=\"text-align:left\">userId                                      </th></tr>\n</thead>\n<tbody>\n<tr><td style=\"text-align:left\">{}     </td><td style=\"text-align:left\">{&quot;time&quot;: &quot;02:00:00&quot;, &quot;num_of_task&quot;: 1, &quot;cpu_per_task&quot;: 4, &quot;memory_per_cpu&quot;: &quot;20GB&quot;}</td><td style=\"text-align:left\">alexandermichels@cybergisx.cigi.illinois.edu</td></tr>\n</tbody>\n</table>",
          "text/plain": "<IPython.core.display.HTML object>"
         },
         "metadata": {},
         "output_type": "display_data"
        },
        {
         "data": {
          "application/vnd.jupyter.widget-view+json": {
           "model_id": "3578213ca026484e870b205e4770e624",
           "version_major": 2,
           "version_minor": 0
          },
          "text/plain": "Button(description='Restore', style=ButtonStyle())"
         },
         "metadata": {},
         "output_type": "display_data"
        },
        {
         "data": {
          "text/html": "<table>\n<thead>\n<tr><th style=\"text-align:left\">id             </th><th style=\"text-align:left\">slurmId  </th><th style=\"text-align:left\">hpc              </th><th style=\"text-align:left\">executableFolder  </th><th style=\"text-align:left\">dataFolder  </th></tr>\n</thead>\n<tbody>\n<tr><td style=\"text-align:left\">1658181153BBScH</td><td style=\"text-align:left\">856762   </td><td style=\"text-align:left\">keeling_community</td><td style=\"text-align:left\">git://covid-access</td><td style=\"text-align:left\">            </td></tr>\n</tbody>\n</table>",
          "text/plain": "<IPython.core.display.HTML object>"
         },
         "metadata": {},
         "output_type": "display_data"
        },
        {
         "data": {
          "text/html": "<table>\n<thead>\n<tr><th style=\"text-align:left\">param  </th><th style=\"text-align:left\">slurm                                                                              </th><th style=\"text-align:left\">userId                                      </th></tr>\n</thead>\n<tbody>\n<tr><td style=\"text-align:left\">{}     </td><td style=\"text-align:left\">{&quot;time&quot;: &quot;02:00:00&quot;, &quot;num_of_task&quot;: 1, &quot;cpu_per_task&quot;: 4, &quot;memory_per_cpu&quot;: &quot;20GB&quot;}</td><td style=\"text-align:left\">alexandermichels@cybergisx.cigi.illinois.edu</td></tr>\n</tbody>\n</table>",
          "text/plain": "<IPython.core.display.HTML object>"
         },
         "metadata": {},
         "output_type": "display_data"
        },
        {
         "data": {
          "application/vnd.jupyter.widget-view+json": {
           "model_id": "40f873afb56d49ab8c307608a4990a26",
           "version_major": 2,
           "version_minor": 0
          },
          "text/plain": "Button(description='Restore', style=ButtonStyle())"
         },
         "metadata": {},
         "output_type": "display_data"
        },
        {
         "data": {
          "text/html": "<table>\n<thead>\n<tr><th style=\"text-align:left\">id             </th><th style=\"text-align:left\">slurmId  </th><th style=\"text-align:left\">hpc              </th><th style=\"text-align:left\">executableFolder  </th><th style=\"text-align:left\">dataFolder  </th></tr>\n</thead>\n<tbody>\n<tr><td style=\"text-align:left\">1658176394bdxt6</td><td style=\"text-align:left\">856740   </td><td style=\"text-align:left\">keeling_community</td><td style=\"text-align:left\">git://covid-access</td><td style=\"text-align:left\">            </td></tr>\n</tbody>\n</table>",
          "text/plain": "<IPython.core.display.HTML object>"
         },
         "metadata": {},
         "output_type": "display_data"
        },
        {
         "data": {
          "text/html": "<table>\n<thead>\n<tr><th style=\"text-align:left\">param  </th><th style=\"text-align:left\">slurm                                                                              </th><th style=\"text-align:left\">userId                                      </th></tr>\n</thead>\n<tbody>\n<tr><td style=\"text-align:left\">{}     </td><td style=\"text-align:left\">{&quot;time&quot;: &quot;02:00:00&quot;, &quot;num_of_task&quot;: 4, &quot;cpu_per_task&quot;: 1, &quot;memory_per_cpu&quot;: &quot;20GB&quot;}</td><td style=\"text-align:left\">alexandermichels@cybergisx.cigi.illinois.edu</td></tr>\n</tbody>\n</table>",
          "text/plain": "<IPython.core.display.HTML object>"
         },
         "metadata": {},
         "output_type": "display_data"
        },
        {
         "data": {
          "application/vnd.jupyter.widget-view+json": {
           "model_id": "2f3c2e7073f549afbeb22c45f22ddd89",
           "version_major": 2,
           "version_minor": 0
          },
          "text/plain": "Button(description='Restore', style=ButtonStyle())"
         },
         "metadata": {},
         "output_type": "display_data"
        },
        {
         "data": {
          "text/html": "<table>\n<thead>\n<tr><th style=\"text-align:left\">id             </th><th style=\"text-align:left\">slurmId  </th><th style=\"text-align:left\">hpc              </th><th style=\"text-align:left\">executableFolder  </th><th style=\"text-align:left\">dataFolder  </th></tr>\n</thead>\n<tbody>\n<tr><td style=\"text-align:left\">1658172310kbg3p</td><td style=\"text-align:left\">856699   </td><td style=\"text-align:left\">keeling_community</td><td style=\"text-align:left\">git://covid-access</td><td style=\"text-align:left\">            </td></tr>\n</tbody>\n</table>",
          "text/plain": "<IPython.core.display.HTML object>"
         },
         "metadata": {},
         "output_type": "display_data"
        },
        {
         "data": {
          "text/html": "<table>\n<thead>\n<tr><th style=\"text-align:left\">param  </th><th style=\"text-align:left\">slurm                                                                              </th><th style=\"text-align:left\">userId                                      </th></tr>\n</thead>\n<tbody>\n<tr><td style=\"text-align:left\">{}     </td><td style=\"text-align:left\">{&quot;time&quot;: &quot;01:00:00&quot;, &quot;num_of_task&quot;: 4, &quot;cpu_per_task&quot;: 1, &quot;memory_per_cpu&quot;: &quot;16GB&quot;}</td><td style=\"text-align:left\">alexandermichels@cybergisx.cigi.illinois.edu</td></tr>\n</tbody>\n</table>",
          "text/plain": "<IPython.core.display.HTML object>"
         },
         "metadata": {},
         "output_type": "display_data"
        },
        {
         "data": {
          "application/vnd.jupyter.widget-view+json": {
           "model_id": "8747770d25af4f619bc9aaab86ce9baf",
           "version_major": 2,
           "version_minor": 0
          },
          "text/plain": "Button(description='Restore', style=ButtonStyle())"
         },
         "metadata": {},
         "output_type": "display_data"
        }
       ]
      }
     },
     "47c8435982c0415fa47ff6dfe17eb759": {
      "model_module": "@jupyter-widgets/controls",
      "model_module_version": "1.5.0",
      "model_name": "DescriptionStyleModel",
      "state": {
       "description_width": ""
      }
     },
     "4cec8d456f424041bd48efdf3839edd5": {
      "model_module": "@jupyter-widgets/base",
      "model_module_version": "1.2.0",
      "model_name": "LayoutModel",
      "state": {}
     },
     "4d6c0131503e4ad283a5703a8af0fedd": {
      "model_module": "@jupyter-widgets/base",
      "model_module_version": "1.2.0",
      "model_name": "LayoutModel",
      "state": {}
     },
     "4dabab805e17489b929af7a99acd27b5": {
      "model_module": "@jupyter-widgets/base",
      "model_module_version": "1.2.0",
      "model_name": "LayoutModel",
      "state": {}
     },
     "4e0023a8d8b84e6c868720a199e4aac3": {
      "model_module": "@jupyter-widgets/controls",
      "model_module_version": "1.5.0",
      "model_name": "ButtonStyleModel",
      "state": {}
     },
     "4e5afbce16094827a01a14741bcd3053": {
      "model_module": "@jupyter-widgets/base",
      "model_module_version": "1.2.0",
      "model_name": "LayoutModel",
      "state": {}
     },
     "4e5d8726d11c4808b6047b73d21b2d2a": {
      "model_module": "@jupyter-widgets/controls",
      "model_module_version": "1.5.0",
      "model_name": "ButtonStyleModel",
      "state": {}
     },
     "4ebc9902f98e4a8facbb0c1eca9dff16": {
      "model_module": "@jupyter-widgets/base",
      "model_module_version": "1.2.0",
      "model_name": "LayoutModel",
      "state": {}
     },
     "4f75bf11591247759a10ff1c90c4ed5a": {
      "model_module": "@jupyter-widgets/controls",
      "model_module_version": "1.5.0",
      "model_name": "ButtonModel",
      "state": {
       "description": "Download",
       "disabled": true,
       "layout": "IPY_MODEL_9627166563bb417aae8221a12a51f1be",
       "style": "IPY_MODEL_f437204916a04344be2a0ad8a20a53c6"
      }
     },
     "508da3f414504295bc6d21ffa0278a93": {
      "model_module": "@jupyter-widgets/base",
      "model_module_version": "1.2.0",
      "model_name": "LayoutModel",
      "state": {}
     },
     "51eac4452dd34984899fe6a978da1462": {
      "model_module": "@jupyter-widgets/base",
      "model_module_version": "1.2.0",
      "model_name": "LayoutModel",
      "state": {}
     },
     "55ba30a6775347bcbf0dfa4204c7a6a6": {
      "model_module": "@jupyter-widgets/base",
      "model_module_version": "1.2.0",
      "model_name": "LayoutModel",
      "state": {}
     },
     "5861676a47de49c79a17ecad3df9e661": {
      "model_module": "@jupyter-widgets/controls",
      "model_module_version": "1.5.0",
      "model_name": "ButtonStyleModel",
      "state": {}
     },
     "5a2648e3cb8845bda7b39f4e50b4ebd7": {
      "model_module": "@jupyter-widgets/base",
      "model_module_version": "1.2.0",
      "model_name": "LayoutModel",
      "state": {}
     },
     "5c0a5ebfda564425bd6c5d7ac5641061": {
      "model_module": "@jupyter-widgets/controls",
      "model_module_version": "1.5.0",
      "model_name": "ButtonModel",
      "state": {
       "description": "Submit New Job",
       "layout": "IPY_MODEL_742b8b011dbf4c28b9c1b11a902d5890",
       "style": "IPY_MODEL_5861676a47de49c79a17ecad3df9e661"
      }
     },
     "602daf157a504b1c9f9c29b1eab4ec8e": {
      "model_module": "@jupyter-widgets/base",
      "model_module_version": "1.2.0",
      "model_name": "LayoutModel",
      "state": {}
     },
     "6082943c164644c6919d6c9f32644d7a": {
      "model_module": "@jupyter-widgets/output",
      "model_module_version": "1.0.0",
      "model_name": "OutputModel",
      "state": {
       "layout": "IPY_MODEL_f5e1260d39ab437d9c57c78cb6db0406",
       "outputs": [
        {
         "data": {
          "text/markdown": "**hello_world Job Description:** none",
          "text/plain": "<IPython.core.display.Markdown object>"
         },
         "metadata": {},
         "output_type": "display_data"
        },
        {
         "data": {
          "text/markdown": "**keeling_community HPC Description**: none",
          "text/plain": "<IPython.core.display.Markdown object>"
         },
         "metadata": {},
         "output_type": "display_data"
        },
        {
         "data": {
          "text/markdown": "**Estimated Runtime:** unknown",
          "text/plain": "<IPython.core.display.Markdown object>"
         },
         "metadata": {},
         "output_type": "display_data"
        }
       ]
      }
     },
     "64474eafe69f4b7cb7a5a121a2283cbc": {
      "model_module": "@jupyter-widgets/output",
      "model_module_version": "1.0.0",
      "model_name": "OutputModel",
      "state": {
       "layout": "IPY_MODEL_a152cc0ee4124c20b934a3f499ee2d17",
       "outputs": [
        {
         "data": {
          "application/vnd.jupyter.widget-view+json": {
           "model_id": "ece894838dee4d3ea2883813a492a034",
           "version_major": 2,
           "version_minor": 0
          },
          "text/plain": "Accordion(children=(VBox(children=(IntSlider(value=50, continuous_update=False, description='input_a', layout=…"
         },
         "metadata": {},
         "output_type": "display_data"
        }
       ]
      }
     },
     "66fda85f324d43aab01e949622962faf": {
      "model_module": "@jupyter-widgets/output",
      "model_module_version": "1.0.0",
      "model_name": "OutputModel",
      "state": {
       "layout": "IPY_MODEL_4e5afbce16094827a01a14741bcd3053"
      }
     },
     "68b4a7a58de84eedbc14aae795f7cc75": {
      "model_module": "@jupyter-widgets/controls",
      "model_module_version": "1.5.0",
      "model_name": "ButtonStyleModel",
      "state": {}
     },
     "6fc2a4a61f854f5783399728bb0b7084": {
      "model_module": "@jupyter-widgets/base",
      "model_module_version": "1.2.0",
      "model_name": "LayoutModel",
      "state": {}
     },
     "701de59c1cb542429ccafd11a06322a6": {
      "model_module": "@jupyter-widgets/output",
      "model_module_version": "1.0.0",
      "model_name": "OutputModel",
      "state": {
       "layout": "IPY_MODEL_f9ba920f94f84f4cbdec4125f7a1e385",
       "outputs": [
        {
         "name": "stdout",
         "output_type": "stream",
         "text": "\u001b[H\u001b[2J📮 Job ID: 1658253944JRlK8\n🤖 Slurm ID: 861611\n"
        },
        {
         "data": {
          "text/html": "<table>\n<thead>\n<tr><th>types         </th><th>message                                                                            </th><th>time                    </th></tr>\n</thead>\n<tbody>\n<tr><td>JOB_QUEUED    </td><td>job [1658253944JRlK8] is queued, waiting for registration                          </td><td>2022-07-19T18:05:43.000Z</td></tr>\n<tr><td>JOB_REGISTERED</td><td>job [1658253944JRlK8] is registered with the supervisor, waiting for initialization</td><td>2022-07-19T18:05:44.000Z</td></tr>\n<tr><td>JOB_INIT      </td><td>job [1658253944JRlK8] is initialized, waiting for job completion                   </td><td>2022-07-19T18:05:48.000Z</td></tr>\n<tr><td>JOB_ENDED     </td><td>job [1658253944JRlK8] finished                                                     </td><td>2022-07-19T18:05:51.000Z</td></tr>\n</tbody>\n</table>",
          "text/plain": "<IPython.core.display.HTML object>"
         },
         "metadata": {},
         "output_type": "display_data"
        }
       ]
      }
     },
     "715a41d0e9c4452fbc083274edb5aa44": {
      "model_module": "@jupyter-widgets/base",
      "model_module_version": "1.2.0",
      "model_name": "LayoutModel",
      "state": {
       "width": "60%"
      }
     },
     "71cf63bead9d4903bdee2678824e9f96": {
      "model_module": "@jupyter-widgets/output",
      "model_module_version": "1.0.0",
      "model_name": "OutputModel",
      "state": {
       "layout": "IPY_MODEL_0842979847df48f98a968269a3fc0f62"
      }
     },
     "735f6cd6e637476e8254d828829a0be5": {
      "model_module": "@jupyter-widgets/controls",
      "model_module_version": "1.5.0",
      "model_name": "ButtonModel",
      "state": {
       "description": "Download",
       "layout": "IPY_MODEL_364ad87fd1584970b20d0b65a6a77304",
       "style": "IPY_MODEL_4e0023a8d8b84e6c868720a199e4aac3"
      }
     },
     "742b8b011dbf4c28b9c1b11a902d5890": {
      "model_module": "@jupyter-widgets/base",
      "model_module_version": "1.2.0",
      "model_name": "LayoutModel",
      "state": {}
     },
     "7568aa9f319743fda0ecbd8fc5019610": {
      "model_module": "@jupyter-widgets/controls",
      "model_module_version": "1.5.0",
      "model_name": "AccordionModel",
      "state": {
       "_titles": {
        "0": "Computing Resource"
       },
       "children": [
        "IPY_MODEL_40c52cb646d042a4b277e626af3babd2"
       ],
       "layout": "IPY_MODEL_eee4b53137e544d28f5c5570d1767c83",
       "selected_index": null
      }
     },
     "7813f2069eaa44598f5826dfae1c507f": {
      "model_module": "@jupyter-widgets/controls",
      "model_module_version": "1.5.0",
      "model_name": "CheckboxModel",
      "state": {
       "description": "receive email on job status? ",
       "disabled": false,
       "layout": "IPY_MODEL_7d546b09c23d494c842f718ce7240f27",
       "style": "IPY_MODEL_44bb6a750adc42c18bfb3eface70318c",
       "value": false
      }
     },
     "7828f3e5b1f742c786c32ac8c1ea415e": {
      "model_module": "@jupyter-widgets/base",
      "model_module_version": "1.2.0",
      "model_name": "LayoutModel",
      "state": {}
     },
     "784b5112bc0c435f92e90e5bedee93f5": {
      "model_module": "@jupyter-widgets/base",
      "model_module_version": "1.2.0",
      "model_name": "LayoutModel",
      "state": {}
     },
     "7a3b2277c82c4c94904d034c3b7362e2": {
      "model_module": "@jupyter-widgets/controls",
      "model_module_version": "1.5.0",
      "model_name": "ButtonModel",
      "state": {
       "description": "Restore",
       "layout": "IPY_MODEL_c9e8c70eed004cac9bde876436c56385",
       "style": "IPY_MODEL_943e37b465f844e78a4fafe23bf3c551"
      }
     },
     "7c304e17849047e1b1bd1b9613e4f2bb": {
      "model_module": "@jupyter-widgets/controls",
      "model_module_version": "1.5.0",
      "model_name": "AccordionModel",
      "state": {
       "_titles": {
        "0": "Slurm Computing Configurations"
       },
       "children": [
        "IPY_MODEL_8f0a71dd69c44139923e649f67ffa006"
       ],
       "layout": "IPY_MODEL_784b5112bc0c435f92e90e5bedee93f5",
       "selected_index": null
      }
     },
     "7ce7a38745554b41b298a385e3d66575": {
      "model_module": "@jupyter-widgets/controls",
      "model_module_version": "1.5.0",
      "model_name": "ButtonModel",
      "state": {
       "description": "Restore",
       "layout": "IPY_MODEL_40bb6e25504e40c78afe298d8edc812f",
       "style": "IPY_MODEL_f687b7198984486c976f5a1080ae85bc"
      }
     },
     "7d546b09c23d494c842f718ce7240f27": {
      "model_module": "@jupyter-widgets/base",
      "model_module_version": "1.2.0",
      "model_name": "LayoutModel",
      "state": {}
     },
     "7d607eebf06c42d8a473b80bb15cbb84": {
      "model_module": "@jupyter-widgets/base",
      "model_module_version": "1.2.0",
      "model_name": "LayoutModel",
      "state": {}
     },
     "807c9e625175448595459b200eb796e0": {
      "model_module": "@jupyter-widgets/base",
      "model_module_version": "1.2.0",
      "model_name": "LayoutModel",
      "state": {}
     },
     "8160eced0d6d4068bccb820cb365493a": {
      "model_module": "@jupyter-widgets/controls",
      "model_module_version": "1.5.0",
      "model_name": "ButtonStyleModel",
      "state": {}
     },
     "8233a39f7a8f4718a249e7189d8b4dc1": {
      "model_module": "@jupyter-widgets/base",
      "model_module_version": "1.2.0",
      "model_name": "LayoutModel",
      "state": {}
     },
     "8244997f3f3947d885b99039afaef1a0": {
      "model_module": "@jupyter-widgets/base",
      "model_module_version": "1.2.0",
      "model_name": "LayoutModel",
      "state": {}
     },
     "8561d6dd553540b9a8f1d1bb1e8bea21": {
      "model_module": "@jupyter-widgets/controls",
      "model_module_version": "1.5.0",
      "model_name": "ButtonModel",
      "state": {
       "description": "Submit New Job",
       "layout": "IPY_MODEL_ce1137874ef14866bd70dfd66c4d2756",
       "style": "IPY_MODEL_d508f0ad48f244639d70e11c2b6e5cb0"
      }
     },
     "8747770d25af4f619bc9aaab86ce9baf": {
      "model_module": "@jupyter-widgets/controls",
      "model_module_version": "1.5.0",
      "model_name": "ButtonModel",
      "state": {
       "description": "Restore",
       "layout": "IPY_MODEL_cc36cadcf3f043d19e8bda5ae0ba83b6",
       "style": "IPY_MODEL_c2a5ebc4760a4e30ab52f9030eb2b911"
      }
     },
     "898732b676cd4633ab2f58d5af10e1f4": {
      "model_module": "@jupyter-widgets/base",
      "model_module_version": "1.2.0",
      "model_name": "LayoutModel",
      "state": {}
     },
     "8e7f0db0532a4b0cb0896f398c92a645": {
      "model_module": "@jupyter-widgets/output",
      "model_module_version": "1.0.0",
      "model_name": "OutputModel",
      "state": {
       "layout": "IPY_MODEL_807c9e625175448595459b200eb796e0",
       "outputs": [
        {
         "data": {
          "application/vnd.jupyter.widget-view+json": {
           "model_id": "b209bef2e0874299afa7d89b0566f247",
           "version_major": 2,
           "version_minor": 0
          },
          "text/plain": "Output()"
         },
         "metadata": {},
         "output_type": "display_data"
        }
       ]
      }
     },
     "8f0a71dd69c44139923e649f67ffa006": {
      "model_module": "@jupyter-widgets/controls",
      "model_module_version": "1.5.0",
      "model_name": "VBoxModel",
      "state": {
       "children": [
        "IPY_MODEL_dbbf4f420c2f4af2a6100d9672003596",
        "IPY_MODEL_28b14c2472bd4f2bb227217695eaf42d"
       ],
       "layout": "IPY_MODEL_b29ba1d4515a451191d24747aa9f24b0"
      }
     },
     "92f4f494d59a468bae2b3fef3dfa2b78": {
      "model_module": "@jupyter-widgets/output",
      "model_module_version": "1.0.0",
      "model_name": "OutputModel",
      "state": {
       "layout": "IPY_MODEL_7828f3e5b1f742c786c32ac8c1ea415e",
       "outputs": [
        {
         "data": {
          "application/vnd.jupyter.widget-view+json": {
           "model_id": "7568aa9f319743fda0ecbd8fc5019610",
           "version_major": 2,
           "version_minor": 0
          },
          "text/plain": "Accordion(children=(Dropdown(description='🖥 Computing Resource:', layout=Layout(width='60%'), options=('keelin…"
         },
         "metadata": {},
         "output_type": "display_data"
        }
       ]
      }
     },
     "943e37b465f844e78a4fafe23bf3c551": {
      "model_module": "@jupyter-widgets/controls",
      "model_module_version": "1.5.0",
      "model_name": "ButtonStyleModel",
      "state": {}
     },
     "95304aa8e5184b38b4e29f75ff5595bb": {
      "model_module": "@jupyter-widgets/controls",
      "model_module_version": "1.5.0",
      "model_name": "ButtonModel",
      "state": {
       "description": "Restore",
       "layout": "IPY_MODEL_898732b676cd4633ab2f58d5af10e1f4",
       "style": "IPY_MODEL_ba8e12e68582499aa9f2efcd6892ca22"
      }
     },
     "95dbd698ab3b4d08a441f33f7674ad94": {
      "model_module": "@jupyter-widgets/base",
      "model_module_version": "1.2.0",
      "model_name": "LayoutModel",
      "state": {}
     },
     "9618285c5d4741b49e2ec779a9122fb2": {
      "model_module": "@jupyter-widgets/controls",
      "model_module_version": "1.5.0",
      "model_name": "IntSliderModel",
      "state": {
       "continuous_update": false,
       "description": "input_a",
       "layout": "IPY_MODEL_715a41d0e9c4452fbc083274edb5aa44",
       "step": 10,
       "style": "IPY_MODEL_b67d55aa08db45d78ddd566fa5ba3423",
       "value": 50
      }
     },
     "9627166563bb417aae8221a12a51f1be": {
      "model_module": "@jupyter-widgets/base",
      "model_module_version": "1.2.0",
      "model_name": "LayoutModel",
      "state": {}
     },
     "9c7a8482510f480ea60a21de3e8c6c9a": {
      "model_module": "@jupyter-widgets/controls",
      "model_module_version": "1.5.0",
      "model_name": "ButtonModel",
      "state": {
       "description": "Restore",
       "layout": "IPY_MODEL_bc311f3716bd4a57b0a1f92cd7faa26e",
       "style": "IPY_MODEL_05d006c387b6435aa29fbcc596240ca7"
      }
     },
     "9fd5e52f87084dd8a64ddeefe0a8f9a3": {
      "model_module": "@jupyter-widgets/controls",
      "model_module_version": "1.5.0",
      "model_name": "IntSliderModel",
      "state": {
       "continuous_update": false,
       "description": "num_of_task",
       "layout": "IPY_MODEL_715a41d0e9c4452fbc083274edb5aa44",
       "max": 6,
       "min": 1,
       "style": "IPY_MODEL_fa79b4fd32cf46cd9218803bc7ad58d5",
       "value": 4
      }
     },
     "a152cc0ee4124c20b934a3f499ee2d17": {
      "model_module": "@jupyter-widgets/base",
      "model_module_version": "1.2.0",
      "model_name": "LayoutModel",
      "state": {}
     },
     "a26395ebbbb445d0ad9f8aae9eb787bf": {
      "model_module": "@jupyter-widgets/controls",
      "model_module_version": "1.5.0",
      "model_name": "ButtonModel",
      "state": {
       "description": "Restore",
       "layout": "IPY_MODEL_cd64477f528847aabf1b64cdb0ac74f6",
       "style": "IPY_MODEL_0f38432c82584392a904c98408e7264f"
      }
     },
     "a36dc6b9d8d74dababeeb2d681e699d8": {
      "model_module": "@jupyter-widgets/base",
      "model_module_version": "1.2.0",
      "model_name": "LayoutModel",
      "state": {}
     },
     "a46e1220077741858df799e151c6a037": {
      "model_module": "@jupyter-widgets/base",
      "model_module_version": "1.2.0",
      "model_name": "LayoutModel",
      "state": {}
     },
     "a6fb5ee2ed4c4e038c35e8fb4bb08e41": {
      "model_module": "@jupyter-widgets/controls",
      "model_module_version": "1.5.0",
      "model_name": "ButtonStyleModel",
      "state": {}
     },
     "a7cd567941ba45778b654d20035473c5": {
      "model_module": "@jupyter-widgets/controls",
      "model_module_version": "1.5.0",
      "model_name": "DescriptionStyleModel",
      "state": {
       "description_width": "auto"
      }
     },
     "a98733c421f14bfc850f904dfe965427": {
      "model_module": "@jupyter-widgets/controls",
      "model_module_version": "1.5.0",
      "model_name": "DropdownModel",
      "state": {
       "_options_labels": [
        "/demo_quick_start_0",
        "/",
        "/slurm_log",
        "/demo_quick_start_1",
        "/demo_quick_start_2",
        "/demo_quick_start_3"
       ],
       "description": "select file/folder",
       "index": 0,
       "layout": "IPY_MODEL_aff8256032954b97aa68d5b50ac98852",
       "style": "IPY_MODEL_034a7d789b404537a16cbd5ae156cbd4"
      }
     },
     "ada28e57ed9545d9b445a0ecb5829506": {
      "model_module": "@jupyter-widgets/controls",
      "model_module_version": "1.5.0",
      "model_name": "ButtonStyleModel",
      "state": {}
     },
     "aff8256032954b97aa68d5b50ac98852": {
      "model_module": "@jupyter-widgets/base",
      "model_module_version": "1.2.0",
      "model_name": "LayoutModel",
      "state": {}
     },
     "b00ce105c1014a8bb287509c1d2e4fc3": {
      "model_module": "@jupyter-widgets/output",
      "model_module_version": "1.0.0",
      "model_name": "OutputModel",
      "state": {
       "layout": "IPY_MODEL_5a2648e3cb8845bda7b39f4e50b4ebd7"
      }
     },
     "b209bef2e0874299afa7d89b0566f247": {
      "model_module": "@jupyter-widgets/output",
      "model_module_version": "1.0.0",
      "model_name": "OutputModel",
      "state": {
       "layout": "IPY_MODEL_d34a6fb47cc147b496f14d926dea958d",
       "outputs": [
        {
         "data": {
          "text/markdown": "# ☁️ Download Job Output Files",
          "text/plain": "<IPython.core.display.Markdown object>"
         },
         "metadata": {},
         "output_type": "display_data"
        },
        {
         "data": {
          "application/vnd.jupyter.widget-view+json": {
           "model_id": "66fda85f324d43aab01e949622962faf",
           "version_major": 2,
           "version_minor": 0
          },
          "text/plain": "Output()"
         },
         "metadata": {},
         "output_type": "display_data"
        },
        {
         "data": {
          "application/vnd.jupyter.widget-view+json": {
           "model_id": "0168236ced5e439e9b04c81ab950da3d",
           "version_major": 2,
           "version_minor": 0
          },
          "text/plain": "Output()"
         },
         "metadata": {},
         "output_type": "display_data"
        },
        {
         "data": {
          "application/vnd.jupyter.widget-view+json": {
           "model_id": "a98733c421f14bfc850f904dfe965427",
           "version_major": 2,
           "version_minor": 0
          },
          "text/plain": "Dropdown(description='select file/folder', options=('/demo_quick_start_0', '/', '/slurm_log', '/demo_quick_sta…"
         },
         "metadata": {},
         "output_type": "display_data"
        },
        {
         "data": {
          "application/vnd.jupyter.widget-view+json": {
           "model_id": "735f6cd6e637476e8254d828829a0be5",
           "version_major": 2,
           "version_minor": 0
          },
          "text/plain": "Button(description='Download', style=ButtonStyle())"
         },
         "metadata": {},
         "output_type": "display_data"
        }
       ]
      }
     },
     "b29ba1d4515a451191d24747aa9f24b0": {
      "model_module": "@jupyter-widgets/base",
      "model_module_version": "1.2.0",
      "model_name": "LayoutModel",
      "state": {}
     },
     "b5311a4fb4c34c2e9dea285c3ead8198": {
      "model_module": "@jupyter-widgets/base",
      "model_module_version": "1.2.0",
      "model_name": "LayoutModel",
      "state": {}
     },
     "b67d55aa08db45d78ddd566fa5ba3423": {
      "model_module": "@jupyter-widgets/controls",
      "model_module_version": "1.5.0",
      "model_name": "SliderStyleModel",
      "state": {
       "description_width": "auto"
      }
     },
     "b9811b8c3c454c4ab5870fe8fb017f55": {
      "model_module": "@jupyter-widgets/output",
      "model_module_version": "1.0.0",
      "model_name": "OutputModel",
      "state": {
       "layout": "IPY_MODEL_602daf157a504b1c9f9c29b1eab4ec8e",
       "outputs": [
        {
         "data": {
          "application/vnd.jupyter.widget-view+json": {
           "model_id": "1e34470da453481785658d8a283c1542",
           "version_major": 2,
           "version_minor": 0
          },
          "text/plain": "Dropdown(description='📦 Job Templates:', index=3, layout=Layout(width='60%'), options=('wrfhydro-5.x', 'summa3…"
         },
         "metadata": {},
         "output_type": "display_data"
        }
       ]
      }
     },
     "ba8e12e68582499aa9f2efcd6892ca22": {
      "model_module": "@jupyter-widgets/controls",
      "model_module_version": "1.5.0",
      "model_name": "ButtonStyleModel",
      "state": {}
     },
     "bc311f3716bd4a57b0a1f92cd7faa26e": {
      "model_module": "@jupyter-widgets/base",
      "model_module_version": "1.2.0",
      "model_name": "LayoutModel",
      "state": {}
     },
     "bd2fb52620a843b98813ac6e231fa93b": {
      "model_module": "@jupyter-widgets/output",
      "model_module_version": "1.0.0",
      "model_name": "OutputModel",
      "state": {
       "layout": "IPY_MODEL_a36dc6b9d8d74dababeeb2d681e699d8",
       "outputs": [
        {
         "data": {
          "application/vnd.jupyter.widget-view+json": {
           "model_id": "7c304e17849047e1b1bd1b9613e4f2bb",
           "version_major": 2,
           "version_minor": 0
          },
          "text/plain": "Accordion(children=(VBox(children=(Label(value='All configs are optional. Please refer to Slurm official docum…"
         },
         "metadata": {},
         "output_type": "display_data"
        }
       ]
      }
     },
     "c0ea046d89ca49dabe8680d25c77fb23": {
      "model_module": "@jupyter-widgets/base",
      "model_module_version": "1.2.0",
      "model_name": "LayoutModel",
      "state": {}
     },
     "c2a5ebc4760a4e30ab52f9030eb2b911": {
      "model_module": "@jupyter-widgets/controls",
      "model_module_version": "1.5.0",
      "model_name": "ButtonStyleModel",
      "state": {}
     },
     "c74649866ce9477a9d2134cf1bd4a7eb": {
      "model_module": "@jupyter-widgets/output",
      "model_module_version": "1.0.0",
      "model_name": "OutputModel",
      "state": {
       "layout": "IPY_MODEL_a46e1220077741858df799e151c6a037",
       "outputs": [
        {
         "data": {
          "application/vnd.jupyter.widget-view+json": {
           "model_id": "4733b2aff98041b99319fbdad9d3c052",
           "version_major": 2,
           "version_minor": 0
          },
          "text/plain": "Output()"
         },
         "metadata": {},
         "output_type": "display_data"
        },
        {
         "data": {
          "application/vnd.jupyter.widget-view+json": {
           "model_id": "71cf63bead9d4903bdee2678824e9f96",
           "version_major": 2,
           "version_minor": 0
          },
          "text/plain": "Output()"
         },
         "metadata": {},
         "output_type": "display_data"
        }
       ]
      }
     },
     "c9e8c70eed004cac9bde876436c56385": {
      "model_module": "@jupyter-widgets/base",
      "model_module_version": "1.2.0",
      "model_name": "LayoutModel",
      "state": {}
     },
     "cb25402ad48f42d38c0ca2b4de67608f": {
      "model_module": "@jupyter-widgets/controls",
      "model_module_version": "1.5.0",
      "model_name": "DropdownModel",
      "state": {
       "_options_labels": [
        "foo",
        "bar"
       ],
       "description": "input_b",
       "index": 0,
       "layout": "IPY_MODEL_4654c36a6238424dbe5db1c7b419fae2",
       "style": "IPY_MODEL_a7cd567941ba45778b654d20035473c5"
      }
     },
     "cc36cadcf3f043d19e8bda5ae0ba83b6": {
      "model_module": "@jupyter-widgets/base",
      "model_module_version": "1.2.0",
      "model_name": "LayoutModel",
      "state": {}
     },
     "cd64477f528847aabf1b64cdb0ac74f6": {
      "model_module": "@jupyter-widgets/base",
      "model_module_version": "1.2.0",
      "model_name": "LayoutModel",
      "state": {}
     },
     "ce1137874ef14866bd70dfd66c4d2756": {
      "model_module": "@jupyter-widgets/base",
      "model_module_version": "1.2.0",
      "model_name": "LayoutModel",
      "state": {}
     },
     "d1fe442fd82247f5b56fe7e84ad0e3d9": {
      "model_module": "@jupyter-widgets/output",
      "model_module_version": "1.0.0",
      "model_name": "OutputModel",
      "state": {
       "layout": "IPY_MODEL_4ebc9902f98e4a8facbb0c1eca9dff16",
       "outputs": [
        {
         "data": {
          "application/vnd.jupyter.widget-view+json": {
           "model_id": "8561d6dd553540b9a8f1d1bb1e8bea21",
           "version_major": 2,
           "version_minor": 0
          },
          "text/plain": "Button(description='Submit New Job', style=ButtonStyle())"
         },
         "metadata": {},
         "output_type": "display_data"
        }
       ]
      }
     },
     "d34a6fb47cc147b496f14d926dea958d": {
      "model_module": "@jupyter-widgets/base",
      "model_module_version": "1.2.0",
      "model_name": "LayoutModel",
      "state": {}
     },
     "d508f0ad48f244639d70e11c2b6e5cb0": {
      "model_module": "@jupyter-widgets/controls",
      "model_module_version": "1.5.0",
      "model_name": "ButtonStyleModel",
      "state": {}
     },
     "d51861e8a93a4361818e6d92a66182fa": {
      "model_module": "@jupyter-widgets/output",
      "model_module_version": "1.0.0",
      "model_name": "OutputModel",
      "state": {
       "layout": "IPY_MODEL_6fc2a4a61f854f5783399728bb0b7084",
       "outputs": [
        {
         "name": "stdout",
         "output_type": "stream",
         "text": "💻 Found system token\n🎯 Logged in as alexandermichels@cybergisx.cigi.illinois.edu\n"
        }
       ]
      }
     },
     "d69d10efffd64c4b8335855cb5e23789": {
      "model_module": "@jupyter-widgets/controls",
      "model_module_version": "1.5.0",
      "model_name": "ButtonModel",
      "state": {
       "description": "Load More",
       "layout": "IPY_MODEL_ec829419b8d34689b0c2ffa5ab336e74",
       "style": "IPY_MODEL_68b4a7a58de84eedbc14aae795f7cc75"
      }
     },
     "d8ce110efd534f788a2443e901bd0497": {
      "model_module": "@jupyter-widgets/base",
      "model_module_version": "1.2.0",
      "model_name": "LayoutModel",
      "state": {}
     },
     "d9e8b4dbacf0454c960c3f62341940f3": {
      "model_module": "@jupyter-widgets/controls",
      "model_module_version": "1.5.0",
      "model_name": "TabModel",
      "state": {
       "_titles": {
        "0": "✅ Your Job Status",
        "1": "⏳ Your Job Status",
        "2": "✅ Download Job Result",
        "3": "Your Jobs"
       },
       "children": [
        "IPY_MODEL_4420137f13234519b2dfc8e93c1a2171",
        "IPY_MODEL_3d4487e0cb99486aa2ff97174e014654",
        "IPY_MODEL_8e7f0db0532a4b0cb0896f398c92a645",
        "IPY_MODEL_c74649866ce9477a9d2134cf1bd4a7eb"
       ],
       "layout": "IPY_MODEL_12d2b78b7d1c4c458e071ca12795c73f",
       "selected_index": 1
      }
     },
     "dbbf4f420c2f4af2a6100d9672003596": {
      "model_module": "@jupyter-widgets/controls",
      "model_module_version": "1.5.0",
      "model_name": "LabelModel",
      "state": {
       "layout": "IPY_MODEL_c0ea046d89ca49dabe8680d25c77fb23",
       "style": "IPY_MODEL_47c8435982c0415fa47ff6dfe17eb759",
       "value": "All configs are optional. Please refer to Slurm official documentation at 🔗 https://slurm.schedmd.com/sbatch.html"
      }
     },
     "dfb33d8683f54525bdf2ee5c03339fc9": {
      "model_module": "@jupyter-widgets/controls",
      "model_module_version": "1.5.0",
      "model_name": "IntSliderModel",
      "state": {
       "continuous_update": false,
       "description": "time (Minutes)",
       "layout": "IPY_MODEL_715a41d0e9c4452fbc083274edb5aa44",
       "max": 50,
       "min": 10,
       "style": "IPY_MODEL_3c3b11d50be841ef83492484652ad916",
       "value": 20
      }
     },
     "e0e95e3ac3974c4086d54a8f1e019d80": {
      "model_module": "@jupyter-widgets/output",
      "model_module_version": "1.0.0",
      "model_name": "OutputModel",
      "state": {
       "layout": "IPY_MODEL_19f35ef4cd474d878ba51c4466b16ea8",
       "outputs": [
        {
         "data": {
          "application/vnd.jupyter.widget-view+json": {
           "model_id": "e2d65509d7af47c4a3e239a7f9f12fa0",
           "version_major": 2,
           "version_minor": 0
          },
          "text/plain": "Output()"
         },
         "metadata": {},
         "output_type": "display_data"
        },
        {
         "data": {
          "application/vnd.jupyter.widget-view+json": {
           "model_id": "1c04142d04644caaa16b5b415fa83134",
           "version_major": 2,
           "version_minor": 0
          },
          "text/plain": "Button(description='Job Submitted ✅', disabled=True, style=ButtonStyle())"
         },
         "metadata": {},
         "output_type": "display_data"
        }
       ]
      }
     },
     "e1796d01daa7444b8a10089406349046": {
      "model_module": "@jupyter-widgets/controls",
      "model_module_version": "1.5.0",
      "model_name": "ButtonModel",
      "state": {
       "description": "Restore",
       "layout": "IPY_MODEL_508da3f414504295bc6d21ffa0278a93",
       "style": "IPY_MODEL_4e5d8726d11c4808b6047b73d21b2d2a"
      }
     },
     "e2d65509d7af47c4a3e239a7f9f12fa0": {
      "model_module": "@jupyter-widgets/output",
      "model_module_version": "1.0.0",
      "model_name": "OutputModel",
      "state": {
       "layout": "IPY_MODEL_8233a39f7a8f4718a249e7189d8b4dc1"
      }
     },
     "e4994b0e8dae40509e85c5e8474e6268": {
      "model_module": "@jupyter-widgets/controls",
      "model_module_version": "1.5.0",
      "model_name": "ButtonStyleModel",
      "state": {}
     },
     "e68eb6e85df04b14ab0eb8eb80d1a1e3": {
      "model_module": "@jupyter-widgets/base",
      "model_module_version": "1.2.0",
      "model_name": "LayoutModel",
      "state": {}
     },
     "ec829419b8d34689b0c2ffa5ab336e74": {
      "model_module": "@jupyter-widgets/base",
      "model_module_version": "1.2.0",
      "model_name": "LayoutModel",
      "state": {}
     },
     "ece894838dee4d3ea2883813a492a034": {
      "model_module": "@jupyter-widgets/controls",
      "model_module_version": "1.5.0",
      "model_name": "AccordionModel",
      "state": {
       "_titles": {
        "0": "Input Parameters"
       },
       "children": [
        "IPY_MODEL_302b9ba3c22f445490d38189cc1795e1"
       ],
       "layout": "IPY_MODEL_b5311a4fb4c34c2e9dea285c3ead8198",
       "selected_index": null
      }
     },
     "ed6a86c1701a41d582cd0f3ec6cc173f": {
      "model_module": "@jupyter-widgets/output",
      "model_module_version": "1.0.0",
      "model_name": "OutputModel",
      "state": {
       "layout": "IPY_MODEL_d8ce110efd534f788a2443e901bd0497",
       "outputs": [
        {
         "name": "stdout",
         "output_type": "stream",
         "text": "\u001b[H\u001b[2J📮 Job ID: 1658253944JRlK8\n🤖 Slurm ID: 861611\n"
        },
        {
         "data": {
          "text/html": "<table>\n<thead>\n<tr><th>message                                                                         </th><th>time                    </th></tr>\n</thead>\n<tbody>\n<tr><td style='text-align:left'>running setup...\nrunning main...\n\n./job.json\n\nSLURM_NODEID\n\n0\nSLURM_PROCID\n\n1\njob_id\n1658253944JRlK8\n{&#x27;job_id&#x27;: &#x27;1658253944JRlK8&#x27;, &#x27;user_id&#x27;: &#x27;alexandermichels@cybergisx.cigi.illinois.edu&#x27;, &#x27;maintainer&#x27;: &#x27;community_contribution&#x27;, &#x27;hpc&#x27;: &#x27;keeling_community&#x27;, &#x27;param&#x27;: {&#x27;input_a&#x27;: 50, &#x27;input_b&#x27;: &#x27;foo&#x27;}, &#x27;env&#x27;: {}, &#x27;executable_folder&#x27;: &#x27;/job/executable&#x27;, &#x27;data_folder&#x27;: &#x27;/job/data&#x27;, &#x27;result_folder&#x27;: &#x27;/job/result&#x27;}\nrunning main...\n\n./job.json\n\nSLURM_NODEID\n\n0\nSLURM_PROCID\n\n2\njob_id\n1658253944JRlK8\n{&#x27;j...[download for full log]                                                                                 </td><td style='text-align:left'>2022-07-19T18:05:51.000Z</td></tr>\n<tr><td style='text-align:left'>ModuleCmd_Use.c(231):ERROR:64: Directory &#x27;gnu/openmpi-4.1.2-gnu-4.8.5&#x27; not found</td><td style='text-align:left'>2022-07-19T18:05:51.000Z</td></tr>\n</tbody>\n</table>",
          "text/plain": "<IPython.core.display.HTML object>"
         },
         "metadata": {},
         "output_type": "display_data"
        },
        {
         "data": {
          "text/markdown": "***",
          "text/plain": "<IPython.core.display.Markdown object>"
         },
         "metadata": {},
         "output_type": "display_data"
        },
        {
         "data": {
          "text/markdown": "## ✅ your job completed",
          "text/plain": "<IPython.core.display.Markdown object>"
         },
         "metadata": {},
         "output_type": "display_data"
        }
       ]
      }
     },
     "eee4b53137e544d28f5c5570d1767c83": {
      "model_module": "@jupyter-widgets/base",
      "model_module_version": "1.2.0",
      "model_name": "LayoutModel",
      "state": {}
     },
     "f1dde3ecd3674c1c98c5439561a9cc21": {
      "model_module": "@jupyter-widgets/output",
      "model_module_version": "1.0.0",
      "model_name": "OutputModel",
      "state": {
       "layout": "IPY_MODEL_8244997f3f3947d885b99039afaef1a0",
       "outputs": [
        {
         "data": {
          "application/vnd.jupyter.widget-view+json": {
           "model_id": "416a47542f1643f7acc8e440aefa0234",
           "version_major": 2,
           "version_minor": 0
          },
          "text/plain": "HBox(children=(Checkbox(value=False, description='receive email on job status? ', style=DescriptionStyle(descr…"
         },
         "metadata": {},
         "output_type": "display_data"
        }
       ]
      }
     },
     "f437204916a04344be2a0ad8a20a53c6": {
      "model_module": "@jupyter-widgets/controls",
      "model_module_version": "1.5.0",
      "model_name": "ButtonStyleModel",
      "state": {}
     },
     "f44db2e56fc943acbc7f31159ef59af9": {
      "model_module": "@jupyter-widgets/base",
      "model_module_version": "1.2.0",
      "model_name": "LayoutModel",
      "state": {
       "width": "500px"
      }
     },
     "f5517453856948afb1d1e78537dac556": {
      "model_module": "@jupyter-widgets/base",
      "model_module_version": "1.2.0",
      "model_name": "LayoutModel",
      "state": {}
     },
     "f5e1260d39ab437d9c57c78cb6db0406": {
      "model_module": "@jupyter-widgets/base",
      "model_module_version": "1.2.0",
      "model_name": "LayoutModel",
      "state": {}
     },
     "f687b7198984486c976f5a1080ae85bc": {
      "model_module": "@jupyter-widgets/controls",
      "model_module_version": "1.5.0",
      "model_name": "ButtonStyleModel",
      "state": {}
     },
     "f9ba920f94f84f4cbdec4125f7a1e385": {
      "model_module": "@jupyter-widgets/base",
      "model_module_version": "1.2.0",
      "model_name": "LayoutModel",
      "state": {}
     },
     "fa79b4fd32cf46cd9218803bc7ad58d5": {
      "model_module": "@jupyter-widgets/controls",
      "model_module_version": "1.5.0",
      "model_name": "SliderStyleModel",
      "state": {
       "description_width": "auto"
      }
     }
    },
    "version_major": 2,
    "version_minor": 0
   }
  }
 },
 "nbformat": 4,
 "nbformat_minor": 5
}
